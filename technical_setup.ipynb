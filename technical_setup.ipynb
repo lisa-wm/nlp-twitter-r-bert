{
  "nbformat": 4,
  "nbformat_minor": 0,
  "metadata": {
    "colab": {
      "name": "technical_setup.ipynb",
      "provenance": [],
      "collapsed_sections": []
    },
    "kernelspec": {
      "name": "ir",
      "display_name": "R"
    },
    "language_info": {
      "name": "R"
    }
  },
  "cells": [
    {
      "cell_type": "code",
      "metadata": {
        "id": "vQMQcOgv5l7u"
      },
      "source": [
        "# Hello world\n",
        "\n",
        "x <- sample(seq_len(1000), 1)\n",
        "x"
      ],
      "execution_count": null,
      "outputs": []
    },
    {
      "cell_type": "code",
      "metadata": {
        "id": "nwXGOr7z8AtU"
      },
      "source": [
        "# Hello iris\n",
        "\n",
        "head(iris)"
      ],
      "execution_count": null,
      "outputs": []
    },
    {
      "cell_type": "code",
      "metadata": {
        "id": "hK8fMtEI8Pbh"
      },
      "source": [
        "# Bye\n",
        "\n",
        "if (x %/% 2 == 0) cat(\"bye\") else cat(\"buh-bye\")"
      ],
      "execution_count": null,
      "outputs": []
    }
  ]
}